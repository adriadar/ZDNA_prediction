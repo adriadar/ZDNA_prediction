{
  "nbformat": 4,
  "nbformat_minor": 0,
  "metadata": {
    "colab": {
      "name": "bioinf_hw2_network.ipynb",
      "provenance": [],
      "collapsed_sections": []
    },
    "kernelspec": {
      "name": "python3",
      "display_name": "Python 3"
    },
    "language_info": {
      "name": "python"
    }
  },
  "cells": [
    {
      "cell_type": "code",
      "metadata": {
        "id": "EkvrVvfogiNV"
      },
      "source": [
        "import os\n",
        "import numpy as np\n",
        "import tensorflow.compat.v1 as tf\n",
        "import time\n",
        "import math\n",
        "import sys"
      ],
      "execution_count": 177,
      "outputs": []
    },
    {
      "cell_type": "code",
      "metadata": {
        "id": "a7UgBmmXgFyP"
      },
      "source": [
        "__author__ = 'jasperz'\n",
        "# This code was created with\n",
        "# python 3.5\n",
        "# tensorflow 1.7\n",
        "# cuda 9.0\n",
        "# cudnn 7.0\n",
        "\n",
        "\n",
        "#os.environ['TF_CPP_MIN_LOG_LEVEL'] = '3'\n",
        "#os.environ['CUDA_VISIBLE_DEVICES'] = '1'\n",
        "\n",
        "\n",
        "# An object of this class represents a neural network, which you can build, print, train, evaluate, save and load.\n",
        "# Below, the functions are discussed in detail.\n",
        "\n",
        "class NetworkModel:\n",
        "    tf.disable_v2_behavior()\n",
        "    # The constructor for the NetworkModel class comes with one optional argument. If no filename is given in input,\n",
        "    # it just creates a new, empty neural network model from scratch. If a filename is given, it loads a model that was\n",
        "    # previously saved to that file using the saveModel(...) function. Note that loaded files can only be used for\n",
        "    # evaluation, and not for (re)training or adding extra layers.\n",
        "    def __init__(self, file_to_load = None):\n",
        "        tf.reset_default_graph()\n",
        "        self.all_layers = []\n",
        "\n",
        "        gpu_options = tf.GPUOptions(per_process_gpu_memory_fraction=0.1)\n",
        "        config = tf.ConfigProto(gpu_options=gpu_options)\n",
        "        config.gpu_options.allow_growth = True\n",
        "\n",
        "        self.sess = tf.Session(config=config)\n",
        "\n",
        "        if not file_to_load:\n",
        "            self.X_placeholder = tf.placeholder(tf.float32, [None, 200, 4],name='X_placeholder')\n",
        "            self.Y_placeholder = tf.placeholder(tf.float32, [None, 2],name='Y_placeholder')\n",
        "            self.loaded = False\n",
        "            self.nn = None\n",
        "        else:\n",
        "            self.loaded = True\n",
        "            self._loadNetworkParameters('models/'+file_to_load)\n",
        "            self.X_placeholder = tf.get_default_graph().get_tensor_by_name('X_placeholder:0')\n",
        "            self.Y_placeholder = tf.get_default_graph().get_tensor_by_name('Y_placeholder:0')\n",
        "            self.predictions_softmax = tf.get_default_graph().get_tensor_by_name('softmax_prediction:0')\n",
        "\n",
        "    # This function adds an input layer to the network. This is the first layer that should be added to every network\n",
        "    # model.\n",
        "    def addInputLayer(self):\n",
        "        assert len(self.all_layers) == 0, 'The input layer should be the first layer of the network, and can only be added once.'\n",
        "        self.all_layers.append(('Input layer','',self.X_placeholder))\n",
        "\n",
        "    # This function adds a convolutional layer to the network, with the specified arguments. You should always specify\n",
        "    # the number of filters (with an upper limit of 500), and the filter width (with an upper limit of 64). There is\n",
        "    # also an optional argument which lets you choose whether or not zero padding is added (as explained in the lecture\n",
        "    # slides). After each convolutional layer, a rectified linear unit (ReLU) is automatically added for\n",
        "    # non-linearization purposes.\n",
        "    def addConvLayer(self, num_of_filters, filter_width, zero_padding = True):\n",
        "        assert len(self.all_layers) > 0 and self.all_layers[0][0].startswith('Input layer')\n",
        "        assert zero_padding in (True,False), 'zero_padding should be True or False (boolean)'\n",
        "        assert 0 < num_of_filters < 500, 'The number of filters specified should be a positive number, smaller than 500'\n",
        "        assert 0 < filter_width < 64, 'The width of your filters should be a positive number, smaller than 64'\n",
        "        assert len(self.all_layers)+1 < 21, 'The total amount of layers should be at most 20'\n",
        "        assert 'Fully-connected layer' not in [typ for typ,_,_ in self.all_layers], 'You cannot add a convolutional layer after a fully-connected layer'\n",
        "        assert 'Softmax (output) layer' not in [typ for typ,_,_ in self.all_layers], 'You cannot add a convolutional layer after a softmax layer'\n",
        "        prev_width = self.all_layers[-1][-1].shape[1]\n",
        "        assert zero_padding or prev_width >= filter_width, 'You cannot add a (non-zeropadded) convolution of width {} when the previous layer has an output width of {}'.format(filter_width,prev_width)\n",
        "        self.all_layers.append(('Convolutional layer',\n",
        "                                '{} filters, width {}, {}zero padding, with ReLU'.format(num_of_filters,\n",
        "                                                                                         filter_width,\n",
        "                                                                                         'no ' if not zero_padding else ''),\n",
        "                                tf.layers.conv1d(self.all_layers[-1][-1],\n",
        "                                                 filters=num_of_filters,\n",
        "                                                 kernel_size=filter_width,\n",
        "                                                 activation=tf.nn.relu,\n",
        "                                                 padding='same' if zero_padding else 'valid')))\n",
        "\n",
        "    # This function adds a max pooling layer to the network, with the specified pool size (with an upper limit of 50).\n",
        "    def addMaxPoolLayer(self, pool_size):\n",
        "        assert len(self.all_layers) > 0 and self.all_layers[0][0].startswith('Input layer')\n",
        "        assert 'Fully-connected layer' not in [typ for typ,_,_ in self.all_layers], 'You cannot add a pooling layer after a fully-connected layer'\n",
        "        assert 'Softmax (output) layer' not in [typ for typ,_,_ in self.all_layers], 'You cannot add a pooling layer after a softmax layer'\n",
        "        assert len(self.all_layers)+1 < 21, 'The total amount of layers should be at most 20'\n",
        "        assert 0 < pool_size < 50, 'The pool size should be lower than 50'\n",
        "        prev_width = self.all_layers[-1][-1].shape[1]\n",
        "        assert prev_width >= pool_size, 'You cannot add a pooling layer with pool size {} when the previous layer has an output width of {}'.format(pool_size,prev_width)\n",
        "        self.all_layers.append(('Max pooling layer',\n",
        "                                'pool size {}'.format(pool_size),\n",
        "                                tf.layers.max_pooling1d(self.all_layers[-1][-1],\n",
        "                                                        pool_size=pool_size,\n",
        "                                                        strides=pool_size)))\n",
        "    # This function adds a fully-connected layer to the network, with the specified number of neurons (with an upper\n",
        "    # limit of 1000). If it is the first fully-connected layer in the network, it will also add a flatten layer first,\n",
        "    # which reduces the dimensionality after the convolutional/pooling layers. For instance, if the output of the last\n",
        "    # pooling layer is (?, 20, 100), the flatten layer will change this to (?, 2000). It is also no longer possible to\n",
        "    # add convolutional or pooling layers after this. After each fully-connected layer, a rectified linear unit (ReLU)\n",
        "    # is automatically added for non-linearization purposes.\n",
        "    def addFullyConnectedLayer(self,num_of_neurons):\n",
        "        assert len(self.all_layers) > 0 and self.all_layers[0][0].startswith('Input layer')\n",
        "        assert 'Softmax (output) layer' not in [typ for typ,_,_ in self.all_layers], 'You cannot add a fully-connected layer after a softmax layer'\n",
        "        assert len(self.all_layers)+1 < 21, 'The total amount of layers should be at most 20'\n",
        "        assert 0 < num_of_neurons < 1000, 'The amount of neurons in this layer should be a positive number, lower than 2000'\n",
        "        if len(self.all_layers[-1][-1].shape) > 2:\n",
        "            self.all_layers.append(('Flatten layer',\n",
        "                                    '',\n",
        "                                   tf.layers.flatten(self.all_layers[-1][-1])))\n",
        "        self.all_layers.append(('Fully-connected layer',\n",
        "                                '{} neurons, with ReLU'.format(num_of_neurons),\n",
        "                                tf.layers.dense(self.all_layers[-1][-1],num_of_neurons)))\n",
        "\n",
        "    # This function adds an output layer to the network, which has two neurons: one for negative classification and one\n",
        "    # for positive classification. A softmax calculation is also done, so that the probabilities that are outputted by\n",
        "    # both neurons add up to 1. Once an output layer is added, no other layers can be added anymore.\n",
        "    def addOutputLayer(self):\n",
        "        assert len(self.all_layers) > 0 and self.all_layers[0][0].startswith('Input layer')\n",
        "        assert 'Softmax (output) layer' not in [typ for typ,_,_ in self.all_layers], 'You cannot add a softmax (output) layer after a softmax layer'\n",
        "        assert len(self.all_layers)+1 < 21, 'The total amount of layers should be at most 20'\n",
        "        if len(self.all_layers[-1][-1].shape) > 2:\n",
        "            self.all_layers.append(('Flatten layer',\n",
        "                                    '',\n",
        "                                    tf.contrib.layers.flatten(self.all_layers[-1][-1])))\n",
        "        # assert no output layer yet\n",
        "        # assert # of layers\n",
        "        self.all_layers.append(('Softmax (output) layer',\n",
        "                                '2 neurons',\n",
        "                                tf.layers.dense(self.all_layers[-1][-1], 2,name='logits')))\n",
        "    # You can use this function for printing out an overview of the layers that you have added to the network. It can\n",
        "    # be not only be used for a completed network, but also intermediately, for a network that is still being built.\n",
        "    # The output is printed out, and will consist of three columns: the type of layer, the hyperparameters (such as the\n",
        "    # number of neurons) and the output size after this layer. This output size will be shown in a format (?, 200, 100).\n",
        "    # The question mark indicates the amount of input samples (which is not fixed), so in building your network you can\n",
        "    # ignore this.\n",
        "    def printDetails(self):\n",
        "        print('####################################')\n",
        "        print('Network information:')\n",
        "        # count all parameters:\n",
        "        total_parameters = 0\n",
        "        # iterating over all variables\n",
        "        for variable in tf.trainable_variables():\n",
        "            local_parameters = 1\n",
        "            shape = variable.get_shape()  # getting shape of a variable\n",
        "            for i in shape:\n",
        "                local_parameters *= i.value  # mutiplying dimension values\n",
        "            total_parameters += local_parameters\n",
        "        print('This network has {} trainable parameters.'.format(total_parameters))\n",
        "\n",
        "        for i,(name,info,l) in enumerate(self.all_layers):\n",
        "            try:\n",
        "                print('{: >2d}. {:23} {:50} -> Output size: {}'.format(i, name, info, l.shape))\n",
        "            except AttributeError:\n",
        "                pass\n",
        "        print('')\n",
        "        print('####################################')\n",
        "\n",
        "\n",
        "    # To train the network, you will first need to read in the datasets, and convert the sequences to the right format.\n",
        "    # More in this format will follow in the assignments. After supplying the training and validation sets, you need to\n",
        "    # specify for how many epochs you want to train (maximum 100). The training and validation costes and accuracies\n",
        "    # will be shown on the screen.\n",
        "    def train(self, trainX, trainY, validX, validY, n_epochs):\n",
        "        print('####################################')\n",
        "        assert 'Input layer' in [typ for typ,_,_ in self.all_layers], 'You cannot train a model without an input layer'\n",
        "        assert 'Softmax (output) layer' in [typ for typ,_,_ in self.all_layers], 'You cannot train a model without an output layer'\n",
        "        assert self.loaded == False, 'You can not (re)train a model loaded from a file.'\n",
        "        assert 1 < n_epochs < 100, 'The number of epochs should be greater than 1 and lower than 100'\n",
        "        assert all(type(l) == list for l in (trainX, trainY, validX, validY)), 'trainX, trainY, validX and validY should all be lists'\n",
        "        assert all(len(l) > 0 for l in (trainX, trainY, validX, validY)), 'trainX, trainY, validX and validY should not be empty'\n",
        "\n",
        "        assert len(trainX) == len(trainY), 'trainX and trainY should have the same amount of samples'\n",
        "        assert len(trainX[0]) == 200 and len(trainX[0][0]) == 4 and type(trainX[0][0][0]) == int, 'trainX should have size (_, 200, 4) and should contain integers'\n",
        "        assert type(trainY[0]) == int, 'trainY should have length n (for n sequences) and should contain integers'\n",
        "\n",
        "        assert len(validX) == len(validY), 'validX and validY should have the same amount of samples'\n",
        "        assert len(validX[0]) == 200 and len(validX[0][0]) == 4 and type(validX[0][0][0]) == int, 'validX should have size (_, 200, 4) and should contain integers'\n",
        "        assert type(validY[0]) == int, 'validY should have length n (for n sequences) and should contain integers'\n",
        "        # assert input and output layer\n",
        "        self._prepare_training()\n",
        "\n",
        "        self.sess.run(tf.global_variables_initializer())\n",
        "        self.sess.run(tf.local_variables_initializer())\n",
        "        train_dataset = _Dataset(trainX, trainY)\n",
        "        valid_dataset = _Dataset(validX, validY)\n",
        "        self._printOutputClasses(train_dataset,'training')\n",
        "        self._printOutputClasses(valid_dataset,'validation')\n",
        "\n",
        "        best_valid_score = 999999\n",
        "        print()\n",
        "        print(' {:^5} | {:^14} | {:^14} | {:^11} | {:^11} | {:^8} '.format('epoch','train cost','valid cost','train acc','valid acc','time'))\n",
        "        print('-{:-^6}+{:-^16}+{:-^16}+{:-^13}+{:-^13}+{:-^9}-'.format('','','','','',''))\n",
        "\n",
        "        tr_cost, tr_acc = self._evaluateSet(train_dataset)\n",
        "        va_cost, va_acc = self._evaluateSet(valid_dataset)\n",
        "        print(' {:5d} |   {:2.8f}   |   {:2.8f}   |  {:1.7f}  | {:1.7f}  | {:4.2f}s '.format(0,tr_cost,tr_acc,va_cost,va_acc,0))\n",
        "\n",
        "        for epoch in range(1,n_epochs+1):\n",
        "            epoch_start_time = time.time()\n",
        "            epoch_finished = False\n",
        "            while not epoch_finished:\n",
        "                batch_x, batch_y, epoch_finished = train_dataset.next_batch(256)\n",
        "                self.sess.run(self.train_op, feed_dict={self.X_placeholder: batch_x, self.Y_placeholder: batch_y})\n",
        "            tr_cost, tr_acc = self._evaluateSet(train_dataset)\n",
        "            va_cost, va_acc = self._evaluateSet(valid_dataset)\n",
        "\n",
        "            if va_cost < best_valid_score:\n",
        "                best_valid_score = va_cost\n",
        "                message = '-> model selected'\n",
        "                self._storeNetworkParameters('models/tmp')\n",
        "            else:\n",
        "                message = ''\n",
        "            print(' {:5d} |   {:2.8f}   |   {:2.8f}   |  {:1.7f}  | {:1.7f}  | {:4.2f}s {}'.format(epoch,tr_cost,va_cost,tr_acc,va_acc,time.time()-epoch_start_time,message))\n",
        "\n",
        "        self._loadNetworkParameters('models/tmp')\n",
        "        print('Finished training')\n",
        "        print('####################################')\n",
        "\n",
        "    # This is the function you will use to generate predictions for a certain dataset. In input, you give a list of\n",
        "    # sequences, in the one-hot encoding format (again, see the assignments). It will output a list of probabilities\n",
        "    # as calculated by the network. The list is a two-dimensional list of size (n, 2), with n being the number of\n",
        "    # sequences in testX. This means that the list will be a list will contain n lists of size 2, each containing the\n",
        "    # negative and positive probability for the prediction.\n",
        "    def generatePredictions(self, testX):\n",
        "        assert len(testX[0]) == 200 and len(testX[0][0]) == 4 and type(testX[0][0][0]) == int, 'testX should have size (_, 200, 4) and should contain integers'\n",
        "        assert self.loaded or 'Input layer' in [typ for typ,_,_ in self.all_layers], 'You cannot test a model without an input layer'\n",
        "        assert self.loaded or 'Softmax (output) layer' in [typ for typ,_,_ in self.all_layers], 'You cannot test a model without an output layer'\n",
        "        # assert input and output layer\n",
        "        all_preds = []\n",
        "        for i in range(math.ceil(len(testX)/256)):\n",
        "            batch_x = np.asarray(testX[i*256:(i+1)*256])\n",
        "            preds = self.sess.run(self.predictions_softmax,feed_dict={self.X_placeholder:batch_x})\n",
        "            for i in range(len(preds)):\n",
        "                all_preds.append((preds[i][0],preds[i][1]))\n",
        "        return all_preds\n",
        "\n",
        "    # At any time, you can save your current model (with its layers and trained parameters) to a file. However, it\n",
        "    # really only makes sense to do this after training. To load this model again, create a new NetworkModel object,\n",
        "    # and specify the same filename in the file_to_load parameter. Note: after loading a model, it cannot be\n",
        "    # (re)trained.\n",
        "    def saveModel(self, file_to_save_to):\n",
        "        assert 'Input layer' in [typ for typ,_,_ in self.all_layers], 'You cannot save a model without an input layer'\n",
        "        assert 'Softmax (output) layer' in [typ for typ,_,_ in self.all_layers], 'You cannot save a model without an output layer'\n",
        "        # assert input and output layer\n",
        "        assert not self.loaded, 'You cannot save a loaded model again.'\n",
        "        self._storeNetworkParameters('models/'+file_to_save_to)\n",
        "\n",
        "    def _prepare_training(self):\n",
        "        # assert all layers -1 == output layer\n",
        "        gs = tf.train.get_or_create_global_step()\n",
        "        self.predictions_softmax = tf.nn.softmax(self.all_layers[-1][-1],name='softmax_prediction')\n",
        "\n",
        "        self.cost_f = tf.losses.softmax_cross_entropy(onehot_labels=self.Y_placeholder, logits=self.all_layers[-1][-1])\n",
        "        self.optimizer = tf.train.AdamOptimizer(learning_rate=0.001)\n",
        "        self.train_op = self.optimizer.minimize(loss=self.cost_f,global_step=gs)\n",
        "\n",
        "        self.acc_f, self.acc_op = tf.metrics.accuracy(labels=tf.argmax(self.Y_placeholder, axis=1),predictions=tf.argmax(self.predictions_softmax, axis=1),name='metric_acc')\n",
        "        self.metric_var_initializer = tf.variables_initializer(var_list=tf.get_collection(tf.GraphKeys.LOCAL_VARIABLES, scope='metric'))\n",
        "\n",
        "    def _evaluateSet(self, dataset):\n",
        "        self.sess.run(self.metric_var_initializer)\n",
        "        costs = []\n",
        "        batches_done = False\n",
        "        while not batches_done:\n",
        "            batch_x, batch_y, epoch_finished = dataset.next_batch(256)\n",
        "\n",
        "            cost_batch = self.sess.run(self.cost_f, feed_dict={self.X_placeholder: batch_x,self.Y_placeholder: batch_y})\n",
        "            _ = self.sess.run([self.acc_op], feed_dict={self.X_placeholder: batch_x,self.Y_placeholder: batch_y})\n",
        "            costs.extend([cost_batch] * len(batch_y))\n",
        "\n",
        "            if epoch_finished:\n",
        "                batches_done = True\n",
        "\n",
        "        accuracy = self.sess.run([self.acc_f])[0]\n",
        "        return np.average(costs),accuracy\n",
        "\n",
        "    def _printOutputClasses(self, dataset, label):\n",
        "        print()\n",
        "        counts = dataset.getClassCounts()\n",
        "        print('Number of {} examples: {}'.format(label,int(np.sum(counts))))\n",
        "        if len(counts) > 1:\n",
        "            print('Distribution of the {} set:'.format(label))\n",
        "            for i in range(min(10,len(counts))):\n",
        "                print('  # elements of class {} = {}'.format(i,int(counts[i])))\n",
        "\n",
        "    def _storeNetworkParameters(self, saveToDir):\n",
        "        try:\n",
        "            saver = tf.train.Saver()\n",
        "            if not os.path.exists(saveToDir):\n",
        "                os.makedirs(saveToDir)\n",
        "            saver.save(self.sess,saveToDir+'/'+saveToDir[saveToDir.rfind('/')+1:])\n",
        "        except Exception:\n",
        "            print('SOMETHING WENT WRONG WITH STORING SHIT JASPER!! ~~~~~~~~~~~~~~~~~~~~~~~~~~~~~~~~~~~~~~~~~')\n",
        "            print(sys.exc_info())\n",
        "            print('~~~~~~~~~~~~~~~~~~~~~~~~~~~~~~~~~~~~~~~~~~~~~~~~~~~~~~~~~~~~~~~~~~~~~~~~~~~~~~~~~~~~~~~~~')\n",
        "\n",
        "    def _loadNetworkParameters(self, saveToDir):\n",
        "        filename = saveToDir+'/'+saveToDir[saveToDir.rfind('/')+1:]\n",
        "        if self.loaded:\n",
        "            saver = tf.train.import_meta_graph(filename+'.meta')\n",
        "        else:\n",
        "            saver = tf.train.Saver()\n",
        "        saver.restore(self.sess, tf.train.latest_checkpoint(saveToDir))\n",
        "\n",
        "\n",
        "class _Dataset:\n",
        "\n",
        "    def __init__(self,x_data,y_data=None):\n",
        "        if isinstance(x_data,list):\n",
        "            x_data = np.asarray(x_data)\n",
        "\n",
        "        self.index_in_epoch = 0\n",
        "        self.x_data = x_data\n",
        "        self.num_samples = x_data.shape[0]\n",
        "\n",
        "        if y_data:\n",
        "            if isinstance(y_data,list):\n",
        "                y_data = self._convertY(y_data)\n",
        "                self.y_data = y_data\n",
        "        else:\n",
        "            self.y_data = []\n",
        "    def __len__(self):\n",
        "        return len(self.x_data)\n",
        "\n",
        "    def getClassCounts(self):\n",
        "        return np.sum(self.y_data,axis=0)\n",
        "\n",
        "    def _convertY(self, y_data):\n",
        "        out = np.zeros((len(y_data),2))\n",
        "        for i,cl in enumerate(y_data):\n",
        "            out[i][cl] = 1\n",
        "        return out\n",
        "\n",
        "    def next_batch(self,batch_size):\n",
        "        start = self.index_in_epoch\n",
        "        end = self.index_in_epoch + batch_size\n",
        "\n",
        "        if start == 0:\n",
        "            idx = np.arange(0, self.num_samples)  # get all possible indexes\n",
        "            np.random.shuffle(idx)  # shuffle indexes\n",
        "            self.x_data = self.x_data[idx]\n",
        "            if len(self.y_data) > 0:\n",
        "                self.y_data = self.y_data[idx]\n",
        "\n",
        "        if end < self.num_samples:\n",
        "            self.index_in_epoch = end\n",
        "            return self.x_data[start:end], self.y_data[start:end], False # epoch finished = False\n",
        "        else:\n",
        "            self.index_in_epoch = 0\n",
        "            return self.x_data[start:], self.y_data[start:], True #epoch finished = True\n",
        "\n",
        "\n",
        "    def stepsInEpoch(self,batch_size):\n",
        "        return math.ceil(len(self) / batch_size)\n",
        "\n",
        "    def getX(self):\n",
        "        return self.x_data\n",
        "\n",
        "    def getSequenceLength(self):\n",
        "        return len(self.x_data[0])"
      ],
      "execution_count": 178,
      "outputs": []
    },
    {
      "cell_type": "code",
      "metadata": {
        "id": "pfaFDwOLjMl3"
      },
      "source": [
        "def convertLines(lines):\n",
        "    newLines = []\n",
        "    for line in lines:\n",
        "        newline = []\n",
        "        flag = 0\n",
        "        for c in line.strip():\n",
        "            if c == 'A' or c == 'a':\n",
        "                v = [1,0,0,0]\n",
        "            elif c == 'C' or c == 'c':\n",
        "                v = [0,1,0,0]\n",
        "            elif c == 'G' or c == 'g':\n",
        "                v = [0,0,1,0]\n",
        "            elif c == 'T' or c == 't':\n",
        "                v = [0,0,0,1]\n",
        "            else:\n",
        "                flag = 1\n",
        "            newline.append(v)\n",
        "        if flag == 0:\n",
        "            newLines.append(newline)\n",
        "    return newLines"
      ],
      "execution_count": 179,
      "outputs": []
    },
    {
      "cell_type": "code",
      "metadata": {
        "id": "Sdnp_62xjB2R"
      },
      "source": [
        "def readInputs(f1,f2):\n",
        "    lines_pos = open(f1).readlines()\n",
        "    lines_neg = open(f2).readlines()\n",
        "\n",
        "    X = []\n",
        "    Y = []\n",
        "\n",
        "    for l in convertLines(lines_pos):\n",
        "        X.append(l)\n",
        "        Y.append(1)\n",
        "    for l in convertLines(lines_neg):\n",
        "        X.append(l)\n",
        "        Y.append(0)\n",
        "\n",
        "    return X,Y"
      ],
      "execution_count": 180,
      "outputs": []
    },
    {
      "cell_type": "code",
      "metadata": {
        "id": "EiJquH6MyBGN"
      },
      "source": [
        "def recall(preds,labs): #какой процент полож класса мы вытащили из самого пложительного класса\n",
        "    tp,tn,fn,fp = 0,0,0,0\n",
        "    for (_,p),l in zip(preds,labs):\n",
        "        if p >= .5 and l == 1:\n",
        "            tp += 1\n",
        "        elif p < .5 and l == 1:\n",
        "            fn += 1\n",
        "        elif p >= .5 and l == 0:\n",
        "            fp += 1\n",
        "        else:\n",
        "            tn += 1\n",
        "    return tp / (tp + fn)\n",
        "\n",
        "\n",
        "def precision(preds,labs):\n",
        "    tp,tn,fn,fp = 0,0,0,0\n",
        "    for (_,p),l in zip(preds,labs):\n",
        "        if p >= .5 and l == 1:\n",
        "            tp += 1\n",
        "        elif p < .5 and l == 1:\n",
        "            fn += 1\n",
        "        elif p >= .5 and l == 0:\n",
        "            fp += 1\n",
        "        else:\n",
        "            tn += 1\n",
        "    return tp / (tp + fp)\n",
        "\n",
        "\n",
        "def f1(preds,labs): #гармоническое среднее recall & precision\n",
        "    r,p = recall(preds,labs), precision(preds,labs)\n",
        "    return 2 * r * p / (r + p)"
      ],
      "execution_count": 181,
      "outputs": []
    },
    {
      "cell_type": "code",
      "metadata": {
        "id": "AGURpaEyoOd9"
      },
      "source": [
        "trainX, trainY = readInputs(\"train.pos\", \"train.neg\")"
      ],
      "execution_count": 182,
      "outputs": []
    },
    {
      "cell_type": "code",
      "metadata": {
        "id": "LzMcIqg9odEh"
      },
      "source": [
        "validX, validY = readInputs(\"val.pos\", \"val.neg\")"
      ],
      "execution_count": 183,
      "outputs": []
    },
    {
      "cell_type": "code",
      "metadata": {
        "id": "uDGeeqEto7Xk"
      },
      "source": [
        "testX, testY = readInputs(\"test.pos\", \"test.neg\")"
      ],
      "execution_count": 184,
      "outputs": []
    },
    {
      "cell_type": "code",
      "metadata": {
        "id": "61GIVA7Gle5k"
      },
      "source": [
        "def regular_network():\n",
        "  net_model = NetworkModel()\n",
        "  net_model.addInputLayer()\n",
        "  net_model.addFullyConnectedLayer(90) #param = число нейронов\n",
        "  net_model.addFullyConnectedLayer(90) #param = число нейронов\n",
        "  net_model.addOutputLayer()\n",
        "  return net_model"
      ],
      "execution_count": 185,
      "outputs": []
    },
    {
      "cell_type": "code",
      "metadata": {
        "colab": {
          "base_uri": "https://localhost:8080/"
        },
        "id": "q_xDD40Sm2u8",
        "outputId": "147b5e8b-f555-40f3-f5f2-fb30103049ef"
      },
      "source": [
        "nm = regular_network()\n",
        "#nm.printDetails()"
      ],
      "execution_count": 186,
      "outputs": [
        {
          "output_type": "stream",
          "name": "stderr",
          "text": [
            "/usr/local/lib/python3.7/dist-packages/ipykernel_launcher.py:103: UserWarning: `tf.layers.flatten` is deprecated and will be removed in a future version. Please use `tf.keras.layers.Flatten` instead.\n",
            "/usr/local/lib/python3.7/dist-packages/keras/legacy_tf_layers/core.py:523: UserWarning: `layer.apply` is deprecated and will be removed in a future version. Please use `layer.__call__` method instead.\n",
            "  return layer.apply(inputs)\n",
            "/usr/local/lib/python3.7/dist-packages/ipykernel_launcher.py:106: UserWarning: `tf.layers.dense` is deprecated and will be removed in a future version. Please use `tf.keras.layers.Dense` instead.\n",
            "/usr/local/lib/python3.7/dist-packages/keras/legacy_tf_layers/core.py:255: UserWarning: `layer.apply` is deprecated and will be removed in a future version. Please use `layer.__call__` method instead.\n",
            "  return layer.apply(inputs)\n",
            "/usr/local/lib/python3.7/dist-packages/ipykernel_launcher.py:123: UserWarning: `tf.layers.dense` is deprecated and will be removed in a future version. Please use `tf.keras.layers.Dense` instead.\n"
          ]
        }
      ]
    },
    {
      "cell_type": "code",
      "metadata": {
        "colab": {
          "base_uri": "https://localhost:8080/"
        },
        "id": "CqFujwE6pO9U",
        "outputId": "650894fb-fd04-419a-fc0c-e1bcffffdb3c"
      },
      "source": [
        "nm.train(trainX, trainY, validX, validY, 10)"
      ],
      "execution_count": 187,
      "outputs": [
        {
          "output_type": "stream",
          "name": "stdout",
          "text": [
            "####################################\n",
            "\n",
            "Number of training examples: 634\n",
            "Distribution of the training set:\n",
            "  # elements of class 0 = 476\n",
            "  # elements of class 1 = 158\n",
            "\n",
            "Number of validation examples: 160\n",
            "Distribution of the validation set:\n",
            "  # elements of class 0 = 121\n",
            "  # elements of class 1 = 39\n",
            "\n",
            " epoch |   train cost   |   valid cost   |  train acc  |  valid acc  |   time   \n",
            "-------+----------------+----------------+-------------+-------------+----------\n",
            "     0 |   0.85856634   |   0.48422712   |  0.8096366  | 0.5500000  | 0.00s \n",
            "     1 |   0.61933237   |   0.63528311   |  0.7523659  | 0.7500000  | 0.13s -> model selected\n",
            "     2 |   0.55524462   |   0.60920286   |  0.7160884  | 0.6875000  | 0.09s -> model selected\n",
            "     3 |   0.43976003   |   0.53058493   |  0.7728707  | 0.7312500  | 0.08s -> model selected\n",
            "     4 |   0.43075952   |   0.55191934   |  0.7870662  | 0.7250000  | 0.03s \n",
            "     5 |   0.38380590   |   0.53193671   |  0.8107256  | 0.7375000  | 0.03s \n",
            "     6 |   0.36531842   |   0.53623015   |  0.8233439  | 0.7187500  | 0.03s \n",
            "     7 |   0.33398023   |   0.52332646   |  0.8406940  | 0.7187500  | 0.10s -> model selected\n",
            "     8 |   0.32104281   |   0.53331959   |  0.8580441  | 0.7312500  | 0.03s \n",
            "     9 |   0.29063883   |   0.52865130   |  0.8722398  | 0.7375000  | 0.02s \n",
            "    10 |   0.27303636   |   0.54015815   |  0.8958991  | 0.7437500  | 0.02s \n",
            "INFO:tensorflow:Restoring parameters from models/tmp/tmp\n",
            "Finished training\n",
            "####################################\n"
          ]
        }
      ]
    },
    {
      "cell_type": "code",
      "metadata": {
        "id": "J7SgVwhAjUUS"
      },
      "source": [
        "pred = nm.generatePredictions(testX)"
      ],
      "execution_count": 188,
      "outputs": []
    },
    {
      "cell_type": "code",
      "metadata": {
        "colab": {
          "base_uri": "https://localhost:8080/"
        },
        "id": "SHSD0Ltgj_TR",
        "outputId": "8a5c68b5-21fe-4eb0-bd4c-059cabf9d080"
      },
      "source": [
        "print(recall(pred, testY))\n",
        "print(precision(pred, testY))\n",
        "print(f1(pred, testY))"
      ],
      "execution_count": 189,
      "outputs": [
        {
          "output_type": "stream",
          "name": "stdout",
          "text": [
            "0.2857142857142857\n",
            "0.4827586206896552\n",
            "0.358974358974359\n"
          ]
        }
      ]
    },
    {
      "cell_type": "code",
      "metadata": {
        "id": "0cAZyY2prQkj"
      },
      "source": [
        "def conv_network():\n",
        "  cnn_model = NetworkModel()\n",
        "  cnn_model.addInputLayer()\n",
        "  cnn_model.addConvLayer(30, 15) #param = число фильтров и ширина фильтров\n",
        "  cnn_model.addMaxPoolLayer(5) #param = ширина скользящего окна\n",
        "  cnn_model.addConvLayer(30, 20) #param = число фильтров и ширина фильтров\n",
        "  cnn_model.addMaxPoolLayer(5) #param = ширина скользящего окна\n",
        "  cnn_model.addFullyConnectedLayer(50) #param = число нейронов\n",
        "  cnn_model.addOutputLayer()\n",
        "  return cnn_model"
      ],
      "execution_count": 190,
      "outputs": []
    },
    {
      "cell_type": "code",
      "metadata": {
        "id": "04aMpGhtsS38",
        "colab": {
          "base_uri": "https://localhost:8080/"
        },
        "outputId": "7f45c906-1a78-4122-dd05-fe93635c0d6e"
      },
      "source": [
        "cnn = conv_network()\n",
        "#cnn.printDetails()"
      ],
      "execution_count": 191,
      "outputs": [
        {
          "output_type": "stream",
          "name": "stderr",
          "text": [
            "/usr/local/lib/python3.7/dist-packages/ipykernel_launcher.py:73: UserWarning: `tf.layers.conv1d` is deprecated and will be removed in a future version. Please Use `tf.keras.layers.Conv1D` instead.\n",
            "/usr/local/lib/python3.7/dist-packages/keras/legacy_tf_layers/convolutional.py:288: UserWarning: `layer.apply` is deprecated and will be removed in a future version. Please use `layer.__call__` method instead.\n",
            "  return layer.apply(inputs)\n",
            "/usr/local/lib/python3.7/dist-packages/ipykernel_launcher.py:88: UserWarning: `tf.layers.max_pooling1d` is deprecated and will be removed in a future version. Please use `tf.keras.layers.MaxPooling1D` instead.\n",
            "/usr/local/lib/python3.7/dist-packages/keras/legacy_tf_layers/pooling.py:294: UserWarning: `layer.apply` is deprecated and will be removed in a future version. Please use `layer.__call__` method instead.\n",
            "  return layer.apply(inputs)\n",
            "/usr/local/lib/python3.7/dist-packages/ipykernel_launcher.py:103: UserWarning: `tf.layers.flatten` is deprecated and will be removed in a future version. Please use `tf.keras.layers.Flatten` instead.\n",
            "/usr/local/lib/python3.7/dist-packages/keras/legacy_tf_layers/core.py:523: UserWarning: `layer.apply` is deprecated and will be removed in a future version. Please use `layer.__call__` method instead.\n",
            "  return layer.apply(inputs)\n",
            "/usr/local/lib/python3.7/dist-packages/ipykernel_launcher.py:106: UserWarning: `tf.layers.dense` is deprecated and will be removed in a future version. Please use `tf.keras.layers.Dense` instead.\n",
            "/usr/local/lib/python3.7/dist-packages/keras/legacy_tf_layers/core.py:255: UserWarning: `layer.apply` is deprecated and will be removed in a future version. Please use `layer.__call__` method instead.\n",
            "  return layer.apply(inputs)\n",
            "/usr/local/lib/python3.7/dist-packages/ipykernel_launcher.py:123: UserWarning: `tf.layers.dense` is deprecated and will be removed in a future version. Please use `tf.keras.layers.Dense` instead.\n"
          ]
        }
      ]
    },
    {
      "cell_type": "code",
      "metadata": {
        "id": "EIGsZp91tF8h",
        "colab": {
          "base_uri": "https://localhost:8080/"
        },
        "outputId": "e1f97732-63b0-41eb-ec7d-0d7200f4f748"
      },
      "source": [
        "cnn.train(trainX, trainY, validX, validY, 10)"
      ],
      "execution_count": 192,
      "outputs": [
        {
          "output_type": "stream",
          "name": "stdout",
          "text": [
            "####################################\n",
            "\n",
            "Number of training examples: 634\n",
            "Distribution of the training set:\n",
            "  # elements of class 0 = 476\n",
            "  # elements of class 1 = 158\n",
            "\n",
            "Number of validation examples: 160\n",
            "Distribution of the validation set:\n",
            "  # elements of class 0 = 121\n",
            "  # elements of class 1 = 39\n",
            "\n",
            " epoch |   train cost   |   valid cost   |  train acc  |  valid acc  |   time   \n",
            "-------+----------------+----------------+-------------+-------------+----------\n",
            "     0 |   0.62854046   |   0.70977920   |  0.6240902  | 0.7562500  | 0.00s \n",
            "     1 |   0.54101062   |   0.53308403   |  0.7507886  | 0.7562500  | 0.44s -> model selected\n",
            "     2 |   0.52545851   |   0.53908819   |  0.7507886  | 0.7562500  | 0.32s \n",
            "     3 |   0.48863840   |   0.50698847   |  0.7507886  | 0.7562500  | 0.40s -> model selected\n",
            "     4 |   0.46217552   |   0.48777375   |  0.7507886  | 0.7562500  | 0.39s -> model selected\n",
            "     5 |   0.42538571   |   0.46708685   |  0.7665615  | 0.7750000  | 0.38s -> model selected\n",
            "     6 |   0.40628397   |   0.46352845   |  0.7791798  | 0.7500000  | 0.39s -> model selected\n",
            "     7 |   0.40268275   |   0.47332007   |  0.7744480  | 0.7500000  | 0.31s \n",
            "     8 |   0.38938349   |   0.48226935   |  0.7949527  | 0.7437500  | 0.31s \n",
            "     9 |   0.37517160   |   0.48049742   |  0.8075710  | 0.7375000  | 0.30s \n",
            "    10 |   0.36395735   |   0.47716242   |  0.8123028  | 0.7437500  | 0.30s \n",
            "INFO:tensorflow:Restoring parameters from models/tmp/tmp\n",
            "Finished training\n",
            "####################################\n"
          ]
        }
      ]
    },
    {
      "cell_type": "code",
      "metadata": {
        "id": "9uvy85VXwoTC"
      },
      "source": [
        "pred = cnn.generatePredictions(testX)\n"
      ],
      "execution_count": 193,
      "outputs": []
    },
    {
      "cell_type": "code",
      "metadata": {
        "colab": {
          "base_uri": "https://localhost:8080/"
        },
        "id": "KLGUZkx6jmi7",
        "outputId": "71a3d916-460f-4bbb-f9cd-79b7e073e359"
      },
      "source": [
        "print(recall(pred, testY))\n",
        "print(precision(pred, testY))\n",
        "print(f1(pred, testY))"
      ],
      "execution_count": 194,
      "outputs": [
        {
          "output_type": "stream",
          "name": "stdout",
          "text": [
            "0.40816326530612246\n",
            "0.5405405405405406\n",
            "0.46511627906976744\n"
          ]
        }
      ]
    }
  ]
}