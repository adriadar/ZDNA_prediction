{
 "cells": [
  {
   "cell_type": "code",
   "execution_count": 36,
   "metadata": {},
   "outputs": [],
   "source": [
    "import pandas as pd\n",
    "import numpy as np\n",
    "import seaborn as sns\n",
    "import matplotlib.pyplot as plt\n",
    "from matplotlib.pyplot import figure"
   ]
  },
  {
   "cell_type": "markdown",
   "metadata": {},
   "source": [
    "# Анализ пиков гистоновой метки"
   ]
  },
  {
   "cell_type": "code",
   "execution_count": 37,
   "metadata": {},
   "outputs": [
    {
     "data": {
      "text/html": [
       "<div>\n",
       "<style scoped>\n",
       "    .dataframe tbody tr th:only-of-type {\n",
       "        vertical-align: middle;\n",
       "    }\n",
       "\n",
       "    .dataframe tbody tr th {\n",
       "        vertical-align: top;\n",
       "    }\n",
       "\n",
       "    .dataframe thead th {\n",
       "        text-align: right;\n",
       "    }\n",
       "</style>\n",
       "<table border=\"1\" class=\"dataframe\">\n",
       "  <thead>\n",
       "    <tr style=\"text-align: right;\">\n",
       "      <th></th>\n",
       "      <th>chrom</th>\n",
       "      <th>chromStart</th>\n",
       "      <th>chromEnd</th>\n",
       "      <th>name</th>\n",
       "      <th>score</th>\n",
       "    </tr>\n",
       "  </thead>\n",
       "  <tbody>\n",
       "    <tr>\n",
       "      <th>0</th>\n",
       "      <td>chr8</td>\n",
       "      <td>95487423</td>\n",
       "      <td>95488053</td>\n",
       "      <td>Peak_1</td>\n",
       "      <td>1000</td>\n",
       "    </tr>\n",
       "    <tr>\n",
       "      <th>1</th>\n",
       "      <td>chr7</td>\n",
       "      <td>152456213</td>\n",
       "      <td>152456716</td>\n",
       "      <td>Peak_2</td>\n",
       "      <td>865</td>\n",
       "    </tr>\n",
       "    <tr>\n",
       "      <th>2</th>\n",
       "      <td>chr8</td>\n",
       "      <td>117887272</td>\n",
       "      <td>117887714</td>\n",
       "      <td>Peak_3</td>\n",
       "      <td>782</td>\n",
       "    </tr>\n",
       "    <tr>\n",
       "      <th>3</th>\n",
       "      <td>chr8</td>\n",
       "      <td>55046417</td>\n",
       "      <td>55047356</td>\n",
       "      <td>Peak_4</td>\n",
       "      <td>764</td>\n",
       "    </tr>\n",
       "    <tr>\n",
       "      <th>4</th>\n",
       "      <td>chr8</td>\n",
       "      <td>81142341</td>\n",
       "      <td>81143873</td>\n",
       "      <td>Peak_5</td>\n",
       "      <td>758</td>\n",
       "    </tr>\n",
       "    <tr>\n",
       "      <th>...</th>\n",
       "      <td>...</td>\n",
       "      <td>...</td>\n",
       "      <td>...</td>\n",
       "      <td>...</td>\n",
       "      <td>...</td>\n",
       "    </tr>\n",
       "    <tr>\n",
       "      <th>62934</th>\n",
       "      <td>chr3</td>\n",
       "      <td>4414750</td>\n",
       "      <td>4414965</td>\n",
       "      <td>Peak_62935</td>\n",
       "      <td>10</td>\n",
       "    </tr>\n",
       "    <tr>\n",
       "      <th>62935</th>\n",
       "      <td>chr7</td>\n",
       "      <td>82662707</td>\n",
       "      <td>82662922</td>\n",
       "      <td>Peak_62936</td>\n",
       "      <td>10</td>\n",
       "    </tr>\n",
       "    <tr>\n",
       "      <th>62936</th>\n",
       "      <td>chrX</td>\n",
       "      <td>101975635</td>\n",
       "      <td>101975915</td>\n",
       "      <td>Peak_62937</td>\n",
       "      <td>10</td>\n",
       "    </tr>\n",
       "    <tr>\n",
       "      <th>62937</th>\n",
       "      <td>chr7</td>\n",
       "      <td>52824404</td>\n",
       "      <td>52824762</td>\n",
       "      <td>Peak_62938</td>\n",
       "      <td>10</td>\n",
       "    </tr>\n",
       "    <tr>\n",
       "      <th>62938</th>\n",
       "      <td>chr8</td>\n",
       "      <td>145063741</td>\n",
       "      <td>145063965</td>\n",
       "      <td>Peak_62939</td>\n",
       "      <td>10</td>\n",
       "    </tr>\n",
       "  </tbody>\n",
       "</table>\n",
       "<p>62939 rows × 5 columns</p>\n",
       "</div>"
      ],
      "text/plain": [
       "      chrom  chromStart   chromEnd        name  score\n",
       "0      chr8    95487423   95488053      Peak_1   1000\n",
       "1      chr7   152456213  152456716      Peak_2    865\n",
       "2      chr8   117887272  117887714      Peak_3    782\n",
       "3      chr8    55046417   55047356      Peak_4    764\n",
       "4      chr8    81142341   81143873      Peak_5    758\n",
       "...     ...         ...        ...         ...    ...\n",
       "62934  chr3     4414750    4414965  Peak_62935     10\n",
       "62935  chr7    82662707   82662922  Peak_62936     10\n",
       "62936  chrX   101975635  101975915  Peak_62937     10\n",
       "62937  chr7    52824404   52824762  Peak_62938     10\n",
       "62938  chr8   145063741  145063965  Peak_62939     10\n",
       "\n",
       "[62939 rows x 5 columns]"
      ]
     },
     "execution_count": 37,
     "metadata": {},
     "output_type": "execute_result"
    }
   ],
   "source": [
    "#ENCFF446ASD (имя dataframe = последние три буквы)\n",
    "asd = pd.read_csv('H2AFZ_bone_marrow_ENCFF446ASD_hg19.bed', sep='\\t', comment='t', header=None)\n",
    "header = ['chrom', 'chromStart', 'chromEnd', 'name', 'score']\n",
    "asd.columns = header[:len(asd.columns)]\n",
    "asd"
   ]
  },
  {
   "cell_type": "code",
   "execution_count": 38,
   "metadata": {},
   "outputs": [
    {
     "data": {
      "text/html": [
       "<div>\n",
       "<style scoped>\n",
       "    .dataframe tbody tr th:only-of-type {\n",
       "        vertical-align: middle;\n",
       "    }\n",
       "\n",
       "    .dataframe tbody tr th {\n",
       "        vertical-align: top;\n",
       "    }\n",
       "\n",
       "    .dataframe thead th {\n",
       "        text-align: right;\n",
       "    }\n",
       "</style>\n",
       "<table border=\"1\" class=\"dataframe\">\n",
       "  <thead>\n",
       "    <tr style=\"text-align: right;\">\n",
       "      <th></th>\n",
       "      <th>chrom</th>\n",
       "      <th>chromStart</th>\n",
       "      <th>chromEnd</th>\n",
       "      <th>name</th>\n",
       "      <th>score</th>\n",
       "    </tr>\n",
       "  </thead>\n",
       "  <tbody>\n",
       "    <tr>\n",
       "      <th>0</th>\n",
       "      <td>chr10</td>\n",
       "      <td>100206801</td>\n",
       "      <td>100207256</td>\n",
       "      <td>Peak_5260</td>\n",
       "      <td>171</td>\n",
       "    </tr>\n",
       "    <tr>\n",
       "      <th>1</th>\n",
       "      <td>chr10</td>\n",
       "      <td>100227423</td>\n",
       "      <td>100227907</td>\n",
       "      <td>Peak_17968</td>\n",
       "      <td>90</td>\n",
       "    </tr>\n",
       "    <tr>\n",
       "      <th>2</th>\n",
       "      <td>chr10</td>\n",
       "      <td>101418635</td>\n",
       "      <td>101418880</td>\n",
       "      <td>Peak_10832</td>\n",
       "      <td>123</td>\n",
       "    </tr>\n",
       "    <tr>\n",
       "      <th>3</th>\n",
       "      <td>chr10</td>\n",
       "      <td>101419354</td>\n",
       "      <td>101419643</td>\n",
       "      <td>Peak_21430</td>\n",
       "      <td>80</td>\n",
       "    </tr>\n",
       "    <tr>\n",
       "      <th>4</th>\n",
       "      <td>chr10</td>\n",
       "      <td>101769985</td>\n",
       "      <td>101770392</td>\n",
       "      <td>Peak_22364</td>\n",
       "      <td>78</td>\n",
       "    </tr>\n",
       "    <tr>\n",
       "      <th>...</th>\n",
       "      <td>...</td>\n",
       "      <td>...</td>\n",
       "      <td>...</td>\n",
       "      <td>...</td>\n",
       "      <td>...</td>\n",
       "    </tr>\n",
       "    <tr>\n",
       "      <th>31145</th>\n",
       "      <td>chrY</td>\n",
       "      <td>2658030</td>\n",
       "      <td>2658566</td>\n",
       "      <td>Peak_21508</td>\n",
       "      <td>80</td>\n",
       "    </tr>\n",
       "    <tr>\n",
       "      <th>31146</th>\n",
       "      <td>chrY</td>\n",
       "      <td>2709056</td>\n",
       "      <td>2709508</td>\n",
       "      <td>Peak_6026</td>\n",
       "      <td>163</td>\n",
       "    </tr>\n",
       "    <tr>\n",
       "      <th>31147</th>\n",
       "      <td>chrY</td>\n",
       "      <td>2871638</td>\n",
       "      <td>2871849</td>\n",
       "      <td>Peak_27370</td>\n",
       "      <td>68</td>\n",
       "    </tr>\n",
       "    <tr>\n",
       "      <th>31148</th>\n",
       "      <td>chrY</td>\n",
       "      <td>6843311</td>\n",
       "      <td>6843671</td>\n",
       "      <td>Peak_25947</td>\n",
       "      <td>70</td>\n",
       "    </tr>\n",
       "    <tr>\n",
       "      <th>31149</th>\n",
       "      <td>chrY</td>\n",
       "      <td>7580572</td>\n",
       "      <td>7580818</td>\n",
       "      <td>Peak_36610</td>\n",
       "      <td>52</td>\n",
       "    </tr>\n",
       "  </tbody>\n",
       "</table>\n",
       "<p>31150 rows × 5 columns</p>\n",
       "</div>"
      ],
      "text/plain": [
       "       chrom  chromStart   chromEnd        name  score\n",
       "0      chr10   100206801  100207256   Peak_5260    171\n",
       "1      chr10   100227423  100227907  Peak_17968     90\n",
       "2      chr10   101418635  101418880  Peak_10832    123\n",
       "3      chr10   101419354  101419643  Peak_21430     80\n",
       "4      chr10   101769985  101770392  Peak_22364     78\n",
       "...      ...         ...        ...         ...    ...\n",
       "31145   chrY     2658030    2658566  Peak_21508     80\n",
       "31146   chrY     2709056    2709508   Peak_6026    163\n",
       "31147   chrY     2871638    2871849  Peak_27370     68\n",
       "31148   chrY     6843311    6843671  Peak_25947     70\n",
       "31149   chrY     7580572    7580818  Peak_36610     52\n",
       "\n",
       "[31150 rows x 5 columns]"
      ]
     },
     "execution_count": 38,
     "metadata": {},
     "output_type": "execute_result"
    }
   ],
   "source": [
    "#ENCFF159YHL\n",
    "yhl = pd.read_csv('H2AFZ_bone_marrow_ENCFF159YHL_hg19.bed', sep='\\t', comment='t', header=None)\n",
    "header = ['chrom', 'chromStart', 'chromEnd', 'name', 'score']\n",
    "yhl.columns = header[:len(yhl.columns)]\n",
    "yhl"
   ]
  },
  {
   "cell_type": "markdown",
   "metadata": {},
   "source": [
    "## Гистограмма длин участков"
   ]
  },
  {
   "cell_type": "code",
   "execution_count": 39,
   "metadata": {},
   "outputs": [
    {
     "data": {
      "text/html": [
       "<div>\n",
       "<style scoped>\n",
       "    .dataframe tbody tr th:only-of-type {\n",
       "        vertical-align: middle;\n",
       "    }\n",
       "\n",
       "    .dataframe tbody tr th {\n",
       "        vertical-align: top;\n",
       "    }\n",
       "\n",
       "    .dataframe thead th {\n",
       "        text-align: right;\n",
       "    }\n",
       "</style>\n",
       "<table border=\"1\" class=\"dataframe\">\n",
       "  <thead>\n",
       "    <tr style=\"text-align: right;\">\n",
       "      <th></th>\n",
       "      <th>chrom</th>\n",
       "      <th>chromStart</th>\n",
       "      <th>chromEnd</th>\n",
       "      <th>name</th>\n",
       "      <th>score</th>\n",
       "      <th>len</th>\n",
       "    </tr>\n",
       "  </thead>\n",
       "  <tbody>\n",
       "    <tr>\n",
       "      <th>0</th>\n",
       "      <td>chr10</td>\n",
       "      <td>100206801</td>\n",
       "      <td>100207256</td>\n",
       "      <td>Peak_5260</td>\n",
       "      <td>171</td>\n",
       "      <td>455</td>\n",
       "    </tr>\n",
       "    <tr>\n",
       "      <th>1</th>\n",
       "      <td>chr10</td>\n",
       "      <td>100227423</td>\n",
       "      <td>100227907</td>\n",
       "      <td>Peak_17968</td>\n",
       "      <td>90</td>\n",
       "      <td>484</td>\n",
       "    </tr>\n",
       "    <tr>\n",
       "      <th>2</th>\n",
       "      <td>chr10</td>\n",
       "      <td>101418635</td>\n",
       "      <td>101418880</td>\n",
       "      <td>Peak_10832</td>\n",
       "      <td>123</td>\n",
       "      <td>245</td>\n",
       "    </tr>\n",
       "    <tr>\n",
       "      <th>3</th>\n",
       "      <td>chr10</td>\n",
       "      <td>101419354</td>\n",
       "      <td>101419643</td>\n",
       "      <td>Peak_21430</td>\n",
       "      <td>80</td>\n",
       "      <td>289</td>\n",
       "    </tr>\n",
       "    <tr>\n",
       "      <th>4</th>\n",
       "      <td>chr10</td>\n",
       "      <td>101769985</td>\n",
       "      <td>101770392</td>\n",
       "      <td>Peak_22364</td>\n",
       "      <td>78</td>\n",
       "      <td>407</td>\n",
       "    </tr>\n",
       "  </tbody>\n",
       "</table>\n",
       "</div>"
      ],
      "text/plain": [
       "   chrom  chromStart   chromEnd        name  score  len\n",
       "0  chr10   100206801  100207256   Peak_5260    171  455\n",
       "1  chr10   100227423  100227907  Peak_17968     90  484\n",
       "2  chr10   101418635  101418880  Peak_10832    123  245\n",
       "3  chr10   101419354  101419643  Peak_21430     80  289\n",
       "4  chr10   101769985  101770392  Peak_22364     78  407"
      ]
     },
     "execution_count": 39,
     "metadata": {},
     "output_type": "execute_result"
    }
   ],
   "source": [
    "def get_len(df):\n",
    "    df['len'] = df.chromEnd - df.chromStart\n",
    "    return\n",
    "\n",
    "get_len(asd)\n",
    "get_len(yhl)\n",
    "yhl.head()"
   ]
  },
  {
   "cell_type": "markdown",
   "metadata": {},
   "source": [
    "Так как я изначально брала файлы версии генома hg19, то ничего конвертировать было не нужно."
   ]
  },
  {
   "cell_type": "code",
   "execution_count": 40,
   "metadata": {},
   "outputs": [
    {
     "data": {
      "image/png": "[encoded data removed]",
      "text/plain": [
       "<Figure size 800x700 with 1 Axes>"
      ]
     },
     "metadata": {
      "needs_background": "light"
     },
     "output_type": "display_data"
    }
   ],
   "source": [
    "figure(figsize=(8, 7), dpi=100)\n",
    "\n",
    "n, bins, patches = plt.hist(asd.len, bins=200, density=False, histtype='bar', facecolor='g', alpha=0.75)\n",
    "\n",
    "plt.xlabel('length')\n",
    "plt.ylabel('Number')\n",
    "plt.title('Segment length histogram for experiment ENCFF446ASD')\n",
    "plt.grid(True)\n",
    "plt.show()"
   ]
  },
  {
   "cell_type": "code",
   "execution_count": 41,
   "metadata": {},
   "outputs": [
    {
     "data": {
      "image/png": "[encoded data removed]",
      "text/plain": [
       "<Figure size 800x700 with 1 Axes>"
      ]
     },
     "metadata": {
      "needs_background": "light"
     },
     "output_type": "display_data"
    }
   ],
   "source": [
    "figure(figsize=(8, 7), dpi=100)\n",
    "\n",
    "n, bins, patches = plt.hist(yhl.len, bins=200, density=False, histtype='bar', facecolor='g', alpha=0.75)\n",
    "\n",
    "plt.xlabel('length')\n",
    "plt.ylabel('Number')\n",
    "plt.title('Segment length histogram for experiment ENCFF159YHL')\n",
    "plt.grid(True)\n",
    "plt.show()"
   ]
  },
  {
   "cell_type": "markdown",
   "metadata": {},
   "source": [
    "## Выкидываем длинные пики"
   ]
  },
  {
   "cell_type": "code",
   "execution_count": 42,
   "metadata": {},
   "outputs": [
    {
     "name": "stdout",
     "output_type": "stream",
     "text": [
      "ENCFF159YHL shape: (30739, 6)\n",
      "ENCFF446ASD shape: (62860, 6)\n"
     ]
    }
   ],
   "source": [
    "yhl = yhl[yhl.len < 1500]\n",
    "asd = asd[asd.len < 1500]\n",
    "print('ENCFF159YHL shape:', yhl.shape)\n",
    "print('ENCFF446ASD shape:', asd.shape)"
   ]
  },
  {
   "cell_type": "code",
   "execution_count": 43,
   "metadata": {},
   "outputs": [
    {
     "data": {
      "image/png": "[encoded data removed]",
      "text/plain": [
       "<Figure size 800x700 with 1 Axes>"
      ]
     },
     "metadata": {
      "needs_background": "light"
     },
     "output_type": "display_data"
    }
   ],
   "source": [
    "figure(figsize=(8, 7), dpi=100)\n",
    "\n",
    "n, bins, patches = plt.hist(asd.len, bins=200, density=False, histtype='bar', facecolor='g', alpha=0.75)\n",
    "\n",
    "plt.xlabel('length')\n",
    "plt.ylabel('Number')\n",
    "plt.title('Segment length histogram for filtered experiment ENCFF446ASD')\n",
    "plt.grid(True)\n",
    "plt.show()"
   ]
  },
  {
   "cell_type": "code",
   "execution_count": 44,
   "metadata": {},
   "outputs": [
    {
     "data": {
      "image/png": "[encoded data removed]",
      "text/plain": [
       "<Figure size 800x700 with 1 Axes>"
      ]
     },
     "metadata": {
      "needs_background": "light"
     },
     "output_type": "display_data"
    }
   ],
   "source": [
    "figure(figsize=(8, 7), dpi=100)\n",
    "\n",
    "n, bins, patches = plt.hist(yhl.len, bins=200, density=False, histtype='bar', facecolor='g', alpha=0.75)\n",
    "\n",
    "plt.xlabel('length')\n",
    "plt.ylabel('Number')\n",
    "plt.title('Segment length histogram for filtered experiment ENCFF159YHL')\n",
    "plt.grid(True)\n",
    "plt.show()"
   ]
  },
  {
   "cell_type": "code",
   "execution_count": 45,
   "metadata": {},
   "outputs": [
    {
     "data": {
      "text/html": [
       "<div>\n",
       "<style scoped>\n",
       "    .dataframe tbody tr th:only-of-type {\n",
       "        vertical-align: middle;\n",
       "    }\n",
       "\n",
       "    .dataframe tbody tr th {\n",
       "        vertical-align: top;\n",
       "    }\n",
       "\n",
       "    .dataframe thead th {\n",
       "        text-align: right;\n",
       "    }\n",
       "</style>\n",
       "<table border=\"1\" class=\"dataframe\">\n",
       "  <thead>\n",
       "    <tr style=\"text-align: right;\">\n",
       "      <th></th>\n",
       "      <th>chrom</th>\n",
       "      <th>chromStart</th>\n",
       "      <th>chromEnd</th>\n",
       "      <th>name</th>\n",
       "      <th>score</th>\n",
       "    </tr>\n",
       "  </thead>\n",
       "  <tbody>\n",
       "    <tr>\n",
       "      <th>0</th>\n",
       "      <td>chr8</td>\n",
       "      <td>95487423</td>\n",
       "      <td>95488053</td>\n",
       "      <td>Peak_1</td>\n",
       "      <td>1000</td>\n",
       "    </tr>\n",
       "    <tr>\n",
       "      <th>1</th>\n",
       "      <td>chr7</td>\n",
       "      <td>152456213</td>\n",
       "      <td>152456716</td>\n",
       "      <td>Peak_2</td>\n",
       "      <td>865</td>\n",
       "    </tr>\n",
       "    <tr>\n",
       "      <th>2</th>\n",
       "      <td>chr8</td>\n",
       "      <td>117887272</td>\n",
       "      <td>117887714</td>\n",
       "      <td>Peak_3</td>\n",
       "      <td>782</td>\n",
       "    </tr>\n",
       "    <tr>\n",
       "      <th>3</th>\n",
       "      <td>chr8</td>\n",
       "      <td>55046417</td>\n",
       "      <td>55047356</td>\n",
       "      <td>Peak_4</td>\n",
       "      <td>764</td>\n",
       "    </tr>\n",
       "    <tr>\n",
       "      <th>5</th>\n",
       "      <td>chr7</td>\n",
       "      <td>127984047</td>\n",
       "      <td>127984709</td>\n",
       "      <td>Peak_6</td>\n",
       "      <td>707</td>\n",
       "    </tr>\n",
       "    <tr>\n",
       "      <th>...</th>\n",
       "      <td>...</td>\n",
       "      <td>...</td>\n",
       "      <td>...</td>\n",
       "      <td>...</td>\n",
       "      <td>...</td>\n",
       "    </tr>\n",
       "    <tr>\n",
       "      <th>62934</th>\n",
       "      <td>chr3</td>\n",
       "      <td>4414750</td>\n",
       "      <td>4414965</td>\n",
       "      <td>Peak_62935</td>\n",
       "      <td>10</td>\n",
       "    </tr>\n",
       "    <tr>\n",
       "      <th>62935</th>\n",
       "      <td>chr7</td>\n",
       "      <td>82662707</td>\n",
       "      <td>82662922</td>\n",
       "      <td>Peak_62936</td>\n",
       "      <td>10</td>\n",
       "    </tr>\n",
       "    <tr>\n",
       "      <th>62936</th>\n",
       "      <td>chrX</td>\n",
       "      <td>101975635</td>\n",
       "      <td>101975915</td>\n",
       "      <td>Peak_62937</td>\n",
       "      <td>10</td>\n",
       "    </tr>\n",
       "    <tr>\n",
       "      <th>62937</th>\n",
       "      <td>chr7</td>\n",
       "      <td>52824404</td>\n",
       "      <td>52824762</td>\n",
       "      <td>Peak_62938</td>\n",
       "      <td>10</td>\n",
       "    </tr>\n",
       "    <tr>\n",
       "      <th>62938</th>\n",
       "      <td>chr8</td>\n",
       "      <td>145063741</td>\n",
       "      <td>145063965</td>\n",
       "      <td>Peak_62939</td>\n",
       "      <td>10</td>\n",
       "    </tr>\n",
       "  </tbody>\n",
       "</table>\n",
       "<p>62860 rows × 5 columns</p>\n",
       "</div>"
      ],
      "text/plain": [
       "      chrom  chromStart   chromEnd        name  score\n",
       "0      chr8    95487423   95488053      Peak_1   1000\n",
       "1      chr7   152456213  152456716      Peak_2    865\n",
       "2      chr8   117887272  117887714      Peak_3    782\n",
       "3      chr8    55046417   55047356      Peak_4    764\n",
       "5      chr7   127984047  127984709      Peak_6    707\n",
       "...     ...         ...        ...         ...    ...\n",
       "62934  chr3     4414750    4414965  Peak_62935     10\n",
       "62935  chr7    82662707   82662922  Peak_62936     10\n",
       "62936  chrX   101975635  101975915  Peak_62937     10\n",
       "62937  chr7    52824404   52824762  Peak_62938     10\n",
       "62938  chr8   145063741  145063965  Peak_62939     10\n",
       "\n",
       "[62860 rows x 5 columns]"
      ]
     },
     "execution_count": 45,
     "metadata": {},
     "output_type": "execute_result"
    }
   ],
   "source": [
    "yhl = yhl.drop(columns='len')\n",
    "asd = asd.drop(columns='len')\n",
    "asd"
   ]
  },
  {
   "cell_type": "code",
   "execution_count": 46,
   "metadata": {},
   "outputs": [],
   "source": [
    "yhl.to_csv(r'H2AFZ_bone_marrow_ENCFF159YHL_hg19_filtered.bed', header=None, index=None, sep='\\t', mode='a')\n",
    "asd.to_csv(r'H2AFZ_bone_marrow_ENCFF446ASD_hg19_filtered.bed', header=None, index=None, sep='\\t', mode='a')"
   ]
  },
  {
   "cell_type": "markdown",
   "metadata": {},
   "source": [
    "## Расположение пиков относительно аннотированных генов."
   ]
  },
  {
   "cell_type": "code",
   "execution_count": 47,
   "metadata": {},
   "outputs": [],
   "source": [
    "utr3 = pd.read_csv('ENCFF159YHL_3utr_int.bed', sep='\\t', comment='t', header=None)\n",
    "header = ['chrom', 'chromStart', 'chromEnd', 'name', 'score', 'num']\n",
    "utr3.columns = header[:len(utr3.columns)]\n",
    "\n",
    "utr5 = pd.read_csv('ENCFF159YHL_5utr_int.bed', sep='\\t', comment='t', header=None)\n",
    "utr5.columns = header[:len(utr5.columns)]\n",
    "\n",
    "codingExons = pd.read_csv('ENCFF159YHL_codingExons_int.bed', sep='\\t', comment='t', header=None)\n",
    "codingExons.columns = header[:len(codingExons.columns)]\n",
    "\n",
    "exons = pd.read_csv('ENCFF159YHL_exons_int.bed', sep='\\t', comment='t', header=None)\n",
    "exons.columns = header[:len(exons.columns)]\n",
    "\n",
    "introns = pd.read_csv('ENCFF159YHL_introns_int.bed', sep='\\t', comment='t', header=None)\n",
    "introns.columns = header[:len(introns.columns)]\n",
    "\n",
    "promoters = pd.read_csv('ENCFF159YHL_promoters_int.bed', sep='\\t', comment='t', header=None)\n",
    "promoters.columns = header[:len(promoters.columns)]"
   ]
  },
  {
   "cell_type": "code",
   "execution_count": 48,
   "metadata": {},
   "outputs": [],
   "source": [
    "utr3 = utr3.drop_duplicates(subset=['chromStart', 'chromEnd'])\n",
    "utr5 = utr5.drop_duplicates(subset=['chromStart', 'chromEnd'])\n",
    "codingExons = codingExons.drop_duplicates(subset=['chromStart', 'chromEnd'])\n",
    "exons = exons.drop_duplicates(subset=['chromStart', 'chromEnd'])\n",
    "introns = introns.drop_duplicates(subset=['chromStart', 'chromEnd'])\n",
    "promoters = promoters.drop_duplicates(subset=['chromStart', 'chromEnd'])"
   ]
  },
  {
   "cell_type": "code",
   "execution_count": 49,
   "metadata": {},
   "outputs": [
    {
     "name": "stdout",
     "output_type": "stream",
     "text": [
      "{'utr3': 1993, 'utr5': 7084, 'codingExons': 4117, 'exons': 11452, 'introns': 39101, 'promoters': 22283, 'sum': 86030}\n"
     ]
    }
   ],
   "source": [
    "d = {}\n",
    "d = {'utr3': utr3['num'].sum(), 'utr5': utr5['num'].sum(), 'codingExons': codingExons['num'].sum(),\n",
    "            'exons': exons['num'].sum(), 'introns': introns['num'].sum(), 'promoters': promoters['num'].sum()}\n",
    "\n",
    "s = 0\n",
    "for value in d.values():\n",
    "    s += value\n",
    "\n",
    "d['sum'] = s\n",
    "print(d)"
   ]
  },
  {
   "cell_type": "code",
   "execution_count": 50,
   "metadata": {},
   "outputs": [
    {
     "data": {
      "image/png": "[encoded data removed]",
      "text/plain": [
       "<Figure size 432x288 with 1 Axes>"
      ]
     },
     "metadata": {},
     "output_type": "display_data"
    }
   ],
   "source": [
    "labels = \"3' UTR\", \"5' UTR\", 'Coding Exons', 'Exons', 'Introns', 'Promoters <= 1000'\n",
    "sizes = [d['utr3']/d['sum'], d['utr5']/d['sum'], d['codingExons']/d['sum'], d['exons']/d['sum'], d['introns']/d['sum'], d['promoters']/d['sum']]\n",
    "explode = (0, 0, 0, 0, 0.1, 0)\n",
    "\n",
    "fig1, ax1 = plt.subplots()\n",
    "ax1.pie(sizes, explode=explode, labels=labels, autopct='%1.1f%%',\n",
    "        shadow=True, startangle=90)\n",
    "ax1.axis('equal')\n",
    "plt.title('Расположение пиков для ENCFF159YHL', y=1.08)\n",
    "plt.show()"
   ]
  },
  {
   "cell_type": "code",
   "execution_count": 51,
   "metadata": {},
   "outputs": [
    {
     "name": "stdout",
     "output_type": "stream",
     "text": [
      "{'utr3': 3485, 'utr5': 8710, 'codingExons': 6076, 'exons': 16136, 'introns': 87389, 'promoters': 25996, 'sum': 147792}\n"
     ]
    }
   ],
   "source": [
    "utr3 = pd.read_csv('ENCFF446ASD_3utr.bed', sep='\\t', comment='t', header=None)\n",
    "header = ['chrom', 'chromStart', 'chromEnd', 'name', 'score', 'num']\n",
    "utr3.columns = header[:len(utr3.columns)]\n",
    "\n",
    "utr5 = pd.read_csv('ENCFF446ASD_5utr.bed', sep='\\t', comment='t', header=None)\n",
    "utr5.columns = header[:len(utr5.columns)]\n",
    "\n",
    "codingExons = pd.read_csv('ENCFF446ASD_codingExons.bed', sep='\\t', comment='t', header=None)\n",
    "codingExons.columns = header[:len(codingExons.columns)]\n",
    "\n",
    "exons = pd.read_csv('ENCFF446ASD_exons.bed', sep='\\t', comment='t', header=None)\n",
    "exons.columns = header[:len(exons.columns)]\n",
    "\n",
    "introns = pd.read_csv('ENCFF446ASD_introns.bed', sep='\\t', comment='t', header=None)\n",
    "introns.columns = header[:len(introns.columns)]\n",
    "\n",
    "promoters = pd.read_csv('ENCFF446ASD_promoters.bed', sep='\\t', comment='t', header=None)\n",
    "promoters.columns = header[:len(promoters.columns)]\n",
    "\n",
    "\n",
    "utr3 = utr3.drop_duplicates(subset=['chromStart', 'chromEnd'])\n",
    "utr5 = utr5.drop_duplicates(subset=['chromStart', 'chromEnd'])\n",
    "codingExons = codingExons.drop_duplicates(subset=['chromStart', 'chromEnd'])\n",
    "exons = exons.drop_duplicates(subset=['chromStart', 'chromEnd'])\n",
    "introns = introns.drop_duplicates(subset=['chromStart', 'chromEnd'])\n",
    "promoters = promoters.drop_duplicates(subset=['chromStart', 'chromEnd'])\n",
    "\n",
    "\n",
    "d = {}\n",
    "d = {'utr3': utr3['num'].sum(), 'utr5': utr5['num'].sum(), 'codingExons': codingExons['num'].sum(),\n",
    "            'exons': exons['num'].sum(), 'introns': introns['num'].sum(), 'promoters': promoters['num'].sum()}\n",
    "\n",
    "s = 0\n",
    "for value in d.values():\n",
    "    s += value\n",
    "\n",
    "d['sum'] = s\n",
    "print(d)"
   ]
  },
  {
   "cell_type": "code",
   "execution_count": 52,
   "metadata": {},
   "outputs": [
    {
     "data": {
      "image/png": "[encoded data removed]",
      "text/plain": [
       "<Figure size 432x288 with 1 Axes>"
      ]
     },
     "metadata": {},
     "output_type": "display_data"
    }
   ],
   "source": [
    "labels = \"3' UTR\", \"5' UTR\", 'Coding Exons', 'Exons', 'Introns', 'Promoters <= 1000'\n",
    "sizes = [d['utr3']/d['sum'], d['utr5']/d['sum'], d['codingExons']/d['sum'], d['exons']/d['sum'], d['introns']/d['sum'], d['promoters']/d['sum']]\n",
    "explode = (0, 0, 0, 0, 0.1, 0)\n",
    "\n",
    "fig1, ax1 = plt.subplots()\n",
    "ax1.pie(sizes, explode=explode, labels=labels, autopct='%1.1f%%',\n",
    "        shadow=True, startangle=90)\n",
    "ax1.axis('equal')\n",
    "plt.title('Расположение пиков для ENCFF446ASD', y=1.08)\n",
    "plt.show()"
   ]
  },
  {
   "cell_type": "markdown",
   "metadata": {},
   "source": [
    "# Анализ участков Z-DNA"
   ]
  },
  {
   "cell_type": "code",
   "execution_count": 53,
   "metadata": {},
   "outputs": [
    {
     "data": {
      "text/html": [
       "<div>\n",
       "<style scoped>\n",
       "    .dataframe tbody tr th:only-of-type {\n",
       "        vertical-align: middle;\n",
       "    }\n",
       "\n",
       "    .dataframe tbody tr th {\n",
       "        vertical-align: top;\n",
       "    }\n",
       "\n",
       "    .dataframe thead th {\n",
       "        text-align: right;\n",
       "    }\n",
       "</style>\n",
       "<table border=\"1\" class=\"dataframe\">\n",
       "  <thead>\n",
       "    <tr style=\"text-align: right;\">\n",
       "      <th></th>\n",
       "      <th>chrom</th>\n",
       "      <th>chromStart</th>\n",
       "      <th>chromEnd</th>\n",
       "    </tr>\n",
       "  </thead>\n",
       "  <tbody>\n",
       "    <tr>\n",
       "      <th>0</th>\n",
       "      <td>chr1</td>\n",
       "      <td>9885</td>\n",
       "      <td>10697</td>\n",
       "    </tr>\n",
       "    <tr>\n",
       "      <th>1</th>\n",
       "      <td>chr1</td>\n",
       "      <td>10936</td>\n",
       "      <td>11065</td>\n",
       "    </tr>\n",
       "    <tr>\n",
       "      <th>2</th>\n",
       "      <td>chr1</td>\n",
       "      <td>11102</td>\n",
       "      <td>11440</td>\n",
       "    </tr>\n",
       "    <tr>\n",
       "      <th>3</th>\n",
       "      <td>chr1</td>\n",
       "      <td>29004</td>\n",
       "      <td>29611</td>\n",
       "    </tr>\n",
       "    <tr>\n",
       "      <th>4</th>\n",
       "      <td>chr1</td>\n",
       "      <td>564495</td>\n",
       "      <td>565370</td>\n",
       "    </tr>\n",
       "    <tr>\n",
       "      <th>...</th>\n",
       "      <td>...</td>\n",
       "      <td>...</td>\n",
       "      <td>...</td>\n",
       "    </tr>\n",
       "    <tr>\n",
       "      <th>19389</th>\n",
       "      <td>chrM</td>\n",
       "      <td>0</td>\n",
       "      <td>1556</td>\n",
       "    </tr>\n",
       "    <tr>\n",
       "      <th>19390</th>\n",
       "      <td>chrM</td>\n",
       "      <td>3388</td>\n",
       "      <td>3731</td>\n",
       "    </tr>\n",
       "    <tr>\n",
       "      <th>19391</th>\n",
       "      <td>chrM</td>\n",
       "      <td>12845</td>\n",
       "      <td>13206</td>\n",
       "    </tr>\n",
       "    <tr>\n",
       "      <th>19392</th>\n",
       "      <td>chrM</td>\n",
       "      <td>14607</td>\n",
       "      <td>14643</td>\n",
       "    </tr>\n",
       "    <tr>\n",
       "      <th>19393</th>\n",
       "      <td>chrM</td>\n",
       "      <td>14657</td>\n",
       "      <td>16571</td>\n",
       "    </tr>\n",
       "  </tbody>\n",
       "</table>\n",
       "<p>19394 rows × 3 columns</p>\n",
       "</div>"
      ],
      "text/plain": [
       "      chrom  chromStart  chromEnd\n",
       "0      chr1        9885     10697\n",
       "1      chr1       10936     11065\n",
       "2      chr1       11102     11440\n",
       "3      chr1       29004     29611\n",
       "4      chr1      564495    565370\n",
       "...     ...         ...       ...\n",
       "19389  chrM           0      1556\n",
       "19390  chrM        3388      3731\n",
       "19391  chrM       12845     13206\n",
       "19392  chrM       14607     14643\n",
       "19393  chrM       14657     16571\n",
       "\n",
       "[19394 rows x 3 columns]"
      ]
     },
     "execution_count": 53,
     "metadata": {},
     "output_type": "execute_result"
    }
   ],
   "source": [
    "zdna = pd.read_csv('DeepZ.bed', sep='\\t', comment='t', header=None)\n",
    "header = ['chrom', 'chromStart', 'chromEnd']\n",
    "zdna.columns = header[:len(zdna.columns)]\n",
    "zdna"
   ]
  },
  {
   "cell_type": "code",
   "execution_count": 54,
   "metadata": {},
   "outputs": [
    {
     "data": {
      "text/html": [
       "<div>\n",
       "<style scoped>\n",
       "    .dataframe tbody tr th:only-of-type {\n",
       "        vertical-align: middle;\n",
       "    }\n",
       "\n",
       "    .dataframe tbody tr th {\n",
       "        vertical-align: top;\n",
       "    }\n",
       "\n",
       "    .dataframe thead th {\n",
       "        text-align: right;\n",
       "    }\n",
       "</style>\n",
       "<table border=\"1\" class=\"dataframe\">\n",
       "  <thead>\n",
       "    <tr style=\"text-align: right;\">\n",
       "      <th></th>\n",
       "      <th>chrom</th>\n",
       "      <th>chromStart</th>\n",
       "      <th>chromEnd</th>\n",
       "      <th>len</th>\n",
       "    </tr>\n",
       "  </thead>\n",
       "  <tbody>\n",
       "    <tr>\n",
       "      <th>0</th>\n",
       "      <td>chr1</td>\n",
       "      <td>9885</td>\n",
       "      <td>10697</td>\n",
       "      <td>812</td>\n",
       "    </tr>\n",
       "    <tr>\n",
       "      <th>1</th>\n",
       "      <td>chr1</td>\n",
       "      <td>10936</td>\n",
       "      <td>11065</td>\n",
       "      <td>129</td>\n",
       "    </tr>\n",
       "    <tr>\n",
       "      <th>2</th>\n",
       "      <td>chr1</td>\n",
       "      <td>11102</td>\n",
       "      <td>11440</td>\n",
       "      <td>338</td>\n",
       "    </tr>\n",
       "    <tr>\n",
       "      <th>3</th>\n",
       "      <td>chr1</td>\n",
       "      <td>29004</td>\n",
       "      <td>29611</td>\n",
       "      <td>607</td>\n",
       "    </tr>\n",
       "    <tr>\n",
       "      <th>4</th>\n",
       "      <td>chr1</td>\n",
       "      <td>564495</td>\n",
       "      <td>565370</td>\n",
       "      <td>875</td>\n",
       "    </tr>\n",
       "  </tbody>\n",
       "</table>\n",
       "</div>"
      ],
      "text/plain": [
       "  chrom  chromStart  chromEnd  len\n",
       "0  chr1        9885     10697  812\n",
       "1  chr1       10936     11065  129\n",
       "2  chr1       11102     11440  338\n",
       "3  chr1       29004     29611  607\n",
       "4  chr1      564495    565370  875"
      ]
     },
     "execution_count": 54,
     "metadata": {},
     "output_type": "execute_result"
    }
   ],
   "source": [
    "get_len(zdna)\n",
    "zdna.head()"
   ]
  },
  {
   "cell_type": "code",
   "execution_count": 55,
   "metadata": {},
   "outputs": [
    {
     "data": {
      "image/png": "[encoded data removed]",
      "text/plain": [
       "<Figure size 800x700 with 1 Axes>"
      ]
     },
     "metadata": {
      "needs_background": "light"
     },
     "output_type": "display_data"
    }
   ],
   "source": [
    "figure(figsize=(8, 7), dpi=100)\n",
    "\n",
    "n, bins, patches = plt.hist(zdna.len, bins=200, density=False, histtype='bar', facecolor='g', alpha=0.75)\n",
    "\n",
    "plt.xlabel('length')\n",
    "plt.ylabel('Number')\n",
    "plt.title('Segment length histogram for Z-DNA')\n",
    "plt.grid(True)\n",
    "plt.show()"
   ]
  },
  {
   "cell_type": "code",
   "execution_count": 56,
   "metadata": {},
   "outputs": [
    {
     "name": "stdout",
     "output_type": "stream",
     "text": [
      "{'utr3': 2798, 'utr5': 21905, 'codingExons': 7033, 'exons': 27457, 'introns': 31527, 'promoters': 34226, 'sum': 124946}\n"
     ]
    }
   ],
   "source": [
    "utr3 = pd.read_csv('DeepZ_3utr.bed', sep='\\t', comment='t', header=None)\n",
    "header = ['chrom', 'chromStart', 'chromEnd', 'num']\n",
    "utr3.columns = header[:len(utr3.columns)]\n",
    "\n",
    "utr5 = pd.read_csv('DeepZ_5utr.bed', sep='\\t', comment='t', header=None)\n",
    "utr5.columns = header[:len(utr5.columns)]\n",
    "\n",
    "codingExons = pd.read_csv('DeepZ_codingExons.bed', sep='\\t', comment='t', header=None)\n",
    "codingExons.columns = header[:len(codingExons.columns)]\n",
    "\n",
    "exons = pd.read_csv('DeepZ_exons.bed', sep='\\t', comment='t', header=None)\n",
    "exons.columns = header[:len(exons.columns)]\n",
    "\n",
    "introns = pd.read_csv('DeepZ_introns.bed', sep='\\t', comment='t', header=None)\n",
    "introns.columns = header[:len(introns.columns)]\n",
    "\n",
    "promoters = pd.read_csv('DeepZ_promoters.bed', sep='\\t', comment='t', header=None)\n",
    "promoters.columns = header[:len(promoters.columns)]\n",
    "\n",
    "\n",
    "utr3 = utr3.drop_duplicates(subset=['chromStart', 'chromEnd'])\n",
    "utr5 = utr5.drop_duplicates(subset=['chromStart', 'chromEnd'])\n",
    "codingExons = codingExons.drop_duplicates(subset=['chromStart', 'chromEnd'])\n",
    "exons = exons.drop_duplicates(subset=['chromStart', 'chromEnd'])\n",
    "introns = introns.drop_duplicates(subset=['chromStart', 'chromEnd'])\n",
    "promoters = promoters.drop_duplicates(subset=['chromStart', 'chromEnd'])\n",
    "\n",
    "\n",
    "d = {}\n",
    "d = {'utr3': utr3['num'].sum(), 'utr5': utr5['num'].sum(), 'codingExons': codingExons['num'].sum(),\n",
    "            'exons': exons['num'].sum(), 'introns': introns['num'].sum(), 'promoters': promoters['num'].sum()}\n",
    "\n",
    "s = 0\n",
    "for value in d.values():\n",
    "    s += value\n",
    "\n",
    "d['sum'] = s\n",
    "print(d)"
   ]
  },
  {
   "cell_type": "code",
   "execution_count": 57,
   "metadata": {},
   "outputs": [
    {
     "data": {
      "image/png": "[encoded data removed]",
      "text/plain": [
       "<Figure size 432x288 with 1 Axes>"
      ]
     },
     "metadata": {},
     "output_type": "display_data"
    }
   ],
   "source": [
    "labels = \"3' UTR\", \"5' UTR\", 'Coding Exons', 'Exons', 'Introns', 'Promoters <= 1000'\n",
    "sizes = [d['utr3']/d['sum'], d['utr5']/d['sum'], d['codingExons']/d['sum'], d['exons']/d['sum'], d['introns']/d['sum'], d['promoters']/d['sum']]\n",
    "explode = (0, 0, 0, 0, 0, 0.1)\n",
    "\n",
    "fig1, ax1 = plt.subplots()\n",
    "ax1.pie(sizes, explode=explode, labels=labels, autopct='%1.1f%%',\n",
    "        shadow=True, startangle=90)\n",
    "ax1.axis('equal')\n",
    "plt.title('Расположение участков Z-DNA', y=1.08)\n",
    "plt.show()"
   ]
  },
  {
   "cell_type": "markdown",
   "metadata": {},
   "source": [
    "# Анализ пересечений гистоновой метки и Z-DNA"
   ]
  },
  {
   "cell_type": "code",
   "execution_count": 58,
   "metadata": {},
   "outputs": [
    {
     "data": {
      "text/html": [
       "<div>\n",
       "<style scoped>\n",
       "    .dataframe tbody tr th:only-of-type {\n",
       "        vertical-align: middle;\n",
       "    }\n",
       "\n",
       "    .dataframe tbody tr th {\n",
       "        vertical-align: top;\n",
       "    }\n",
       "\n",
       "    .dataframe thead th {\n",
       "        text-align: right;\n",
       "    }\n",
       "</style>\n",
       "<table border=\"1\" class=\"dataframe\">\n",
       "  <thead>\n",
       "    <tr style=\"text-align: right;\">\n",
       "      <th></th>\n",
       "      <th>chrom</th>\n",
       "      <th>chromStart</th>\n",
       "      <th>chromEnd</th>\n",
       "    </tr>\n",
       "  </thead>\n",
       "  <tbody>\n",
       "    <tr>\n",
       "      <th>0</th>\n",
       "      <td>chr1</td>\n",
       "      <td>1510394</td>\n",
       "      <td>1510398</td>\n",
       "    </tr>\n",
       "    <tr>\n",
       "      <th>1</th>\n",
       "      <td>chr1</td>\n",
       "      <td>3713236</td>\n",
       "      <td>3713250</td>\n",
       "    </tr>\n",
       "    <tr>\n",
       "      <th>2</th>\n",
       "      <td>chr1</td>\n",
       "      <td>6259857</td>\n",
       "      <td>6259930</td>\n",
       "    </tr>\n",
       "    <tr>\n",
       "      <th>3</th>\n",
       "      <td>chr1</td>\n",
       "      <td>6259955</td>\n",
       "      <td>6259973</td>\n",
       "    </tr>\n",
       "    <tr>\n",
       "      <th>4</th>\n",
       "      <td>chr1</td>\n",
       "      <td>6259985</td>\n",
       "      <td>6259999</td>\n",
       "    </tr>\n",
       "    <tr>\n",
       "      <th>...</th>\n",
       "      <td>...</td>\n",
       "      <td>...</td>\n",
       "      <td>...</td>\n",
       "    </tr>\n",
       "    <tr>\n",
       "      <th>2651</th>\n",
       "      <td>chrX</td>\n",
       "      <td>128978191</td>\n",
       "      <td>128978317</td>\n",
       "    </tr>\n",
       "    <tr>\n",
       "      <th>2652</th>\n",
       "      <td>chrX</td>\n",
       "      <td>129305839</td>\n",
       "      <td>129306042</td>\n",
       "    </tr>\n",
       "    <tr>\n",
       "      <th>2653</th>\n",
       "      <td>chrX</td>\n",
       "      <td>131352328</td>\n",
       "      <td>131352364</td>\n",
       "    </tr>\n",
       "    <tr>\n",
       "      <th>2654</th>\n",
       "      <td>chrX</td>\n",
       "      <td>133683328</td>\n",
       "      <td>133683427</td>\n",
       "    </tr>\n",
       "    <tr>\n",
       "      <th>2655</th>\n",
       "      <td>chrX</td>\n",
       "      <td>154299887</td>\n",
       "      <td>154299918</td>\n",
       "    </tr>\n",
       "  </tbody>\n",
       "</table>\n",
       "<p>2656 rows × 3 columns</p>\n",
       "</div>"
      ],
      "text/plain": [
       "     chrom  chromStart   chromEnd\n",
       "0     chr1     1510394    1510398\n",
       "1     chr1     3713236    3713250\n",
       "2     chr1     6259857    6259930\n",
       "3     chr1     6259955    6259973\n",
       "4     chr1     6259985    6259999\n",
       "...    ...         ...        ...\n",
       "2651  chrX   128978191  128978317\n",
       "2652  chrX   129305839  129306042\n",
       "2653  chrX   131352328  131352364\n",
       "2654  chrX   133683328  133683427\n",
       "2655  chrX   154299887  154299918\n",
       "\n",
       "[2656 rows x 3 columns]"
      ]
     },
     "execution_count": 58,
     "metadata": {},
     "output_type": "execute_result"
    }
   ],
   "source": [
    "intersection = pd.read_csv('H2AFZ_bone_marrow_intersect_with_DeepZ.bed', sep='\\t', comment='t', header=None)\n",
    "header = ['chrom', 'chromStart', 'chromEnd']\n",
    "intersection.columns = header[:len(intersection.columns)]\n",
    "intersection"
   ]
  },
  {
   "cell_type": "code",
   "execution_count": 59,
   "metadata": {},
   "outputs": [
    {
     "data": {
      "text/html": [
       "<div>\n",
       "<style scoped>\n",
       "    .dataframe tbody tr th:only-of-type {\n",
       "        vertical-align: middle;\n",
       "    }\n",
       "\n",
       "    .dataframe tbody tr th {\n",
       "        vertical-align: top;\n",
       "    }\n",
       "\n",
       "    .dataframe thead th {\n",
       "        text-align: right;\n",
       "    }\n",
       "</style>\n",
       "<table border=\"1\" class=\"dataframe\">\n",
       "  <thead>\n",
       "    <tr style=\"text-align: right;\">\n",
       "      <th></th>\n",
       "      <th>chrom</th>\n",
       "      <th>chromStart</th>\n",
       "      <th>chromEnd</th>\n",
       "      <th>len</th>\n",
       "    </tr>\n",
       "  </thead>\n",
       "  <tbody>\n",
       "    <tr>\n",
       "      <th>0</th>\n",
       "      <td>chr1</td>\n",
       "      <td>1510394</td>\n",
       "      <td>1510398</td>\n",
       "      <td>4</td>\n",
       "    </tr>\n",
       "    <tr>\n",
       "      <th>1</th>\n",
       "      <td>chr1</td>\n",
       "      <td>3713236</td>\n",
       "      <td>3713250</td>\n",
       "      <td>14</td>\n",
       "    </tr>\n",
       "    <tr>\n",
       "      <th>2</th>\n",
       "      <td>chr1</td>\n",
       "      <td>6259857</td>\n",
       "      <td>6259930</td>\n",
       "      <td>73</td>\n",
       "    </tr>\n",
       "    <tr>\n",
       "      <th>3</th>\n",
       "      <td>chr1</td>\n",
       "      <td>6259955</td>\n",
       "      <td>6259973</td>\n",
       "      <td>18</td>\n",
       "    </tr>\n",
       "    <tr>\n",
       "      <th>4</th>\n",
       "      <td>chr1</td>\n",
       "      <td>6259985</td>\n",
       "      <td>6259999</td>\n",
       "      <td>14</td>\n",
       "    </tr>\n",
       "  </tbody>\n",
       "</table>\n",
       "</div>"
      ],
      "text/plain": [
       "  chrom  chromStart  chromEnd  len\n",
       "0  chr1     1510394   1510398    4\n",
       "1  chr1     3713236   3713250   14\n",
       "2  chr1     6259857   6259930   73\n",
       "3  chr1     6259955   6259973   18\n",
       "4  chr1     6259985   6259999   14"
      ]
     },
     "execution_count": 59,
     "metadata": {},
     "output_type": "execute_result"
    }
   ],
   "source": [
    "get_len(intersection)\n",
    "intersection.head()"
   ]
  },
  {
   "cell_type": "code",
   "execution_count": 60,
   "metadata": {},
   "outputs": [
    {
     "data": {
      "image/png": "[encoded data removed]",
      "text/plain": [
       "<Figure size 800x700 with 1 Axes>"
      ]
     },
     "metadata": {
      "needs_background": "light"
     },
     "output_type": "display_data"
    }
   ],
   "source": [
    "figure(figsize=(8, 7), dpi=100)\n",
    "\n",
    "n, bins, patches = plt.hist(intersection.len, bins=200, density=False, histtype='bar', facecolor='g', alpha=0.75)\n",
    "\n",
    "plt.xlabel('length')\n",
    "plt.ylabel('Number')\n",
    "plt.title('Segment length histogram for intersection')\n",
    "plt.grid(True)\n",
    "plt.show()"
   ]
  }
 ],
 "metadata": {
  "interpreter": {
   "hash": "31f2aee4e71d21fbe5cf8b01ff0e069b9275f58929596ceb00d14d90e3e16cd6"
  },
  "kernelspec": {
   "display_name": "Python 3.8.10 64-bit",
   "name": "python3"
  },
  "language_info": {
   "codemirror_mode": {
    "name": "ipython",
    "version": 3
   },
   "file_extension": ".py",
   "mimetype": "text/x-python",
   "name": "python",
   "nbconvert_exporter": "python",
   "pygments_lexer": "ipython3",
   "version": "3.8.10"
  },
  "orig_nbformat": 4
 },
 "nbformat": 4,
 "nbformat_minor": 2
}
